{
  "cells": [
    {
      "cell_type": "markdown",
      "metadata": {},
      "source": [
        "# Data Science Tools and Ecosystem"
      ]
    },
    {
      "cell_type": "markdown",
      "metadata": {},
      "source": [
        "In this notebook, Data Science Tools and Ecosystem are summarized "
      ]
    },
    {
      "cell_type": "markdown",
      "metadata": {},
      "source": [
        "Some of the popular languages that Data Scientists use are: \n",
        "1. Python\n",
        "2. R\n",
        "3. SQL"
      ]
    },
    {
      "cell_type": "markdown",
      "metadata": {},
      "source": [
        "Some of the commonly used libraries used by Data Scientists include:\n",
        "1. pandas \n",
        "2. NumPy\n",
        "3. Matplotlib "
      ]
    },
    {
      "cell_type": "markdown",
      "metadata": {},
      "source": [
        "Data Scientisc Tools:\n",
        "| Tools |\n",
        "|----------|\n",
        "| Jupyter Notebook| \n",
        "| Apache Spark  |\n",
        "| TensorFlow  |"
      ]
    },
    {
      "cell_type": "markdown",
      "metadata": {},
      "source": [
        "### Below are a few examples of evuating arithmetic expressions in Python\n"
      ]
    },
    {
      "cell_type": "code",
      "execution_count": 10,
      "metadata": {
        "trusted": true
      },
      "outputs": [
        {
          "name": "stdout",
          "output_type": "stream",
          "text": [
            "17\n"
          ]
        }
      ],
      "source": [
        "#this is a simple arithmetic expression to mutiply then add integers\n",
        "a = (3*4)+5\n",
        "print(a)"
      ]
    },
    {
      "cell_type": "code",
      "execution_count": 15,
      "metadata": {
        "trusted": true
      },
      "outputs": [
        {
          "name": "stdout",
          "output_type": "stream",
          "text": [
            "3.3333333333333335\n"
          ]
        }
      ],
      "source": [
        "# This will convert 200 minutes to hours by diving by 60 \n",
        "a = 200 /60 \n",
        "print(a)"
      ]
    },
    {
      "cell_type": "markdown",
      "metadata": {},
      "source": [
        "**Objectives:**\n",
        "- List popular Languages for Data Science,\n",
        "- Three popular tools for Data Science,\n",
        "- Convert units of time in Python,\n",
        "- Present commonly used Data Science libraries.\n",
        "  \n",
        "\n"
      ]
    },
    {
      "cell_type": "markdown",
      "metadata": {},
      "source": [
        "## Author \n",
        "Patryk"
      ]
    }
  ],
  "metadata": {
    "kernelspec": {
      "display_name": "Python (Pyodide)",
      "language": "python",
      "name": "python"
    },
    "language_info": {
      "codemirror_mode": {
        "name": "python",
        "version": 3
      },
      "file_extension": ".py",
      "mimetype": "text/x-python",
      "name": "python",
      "nbconvert_exporter": "python",
      "pygments_lexer": "ipython3",
      "version": "3.8"
    }
  },
  "nbformat": 4,
  "nbformat_minor": 4
}
